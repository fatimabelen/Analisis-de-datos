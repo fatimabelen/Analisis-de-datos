{
 "cells": [
  {
   "cell_type": "markdown",
   "id": "db78f8b4",
   "metadata": {},
   "source": [
    "Ejercicio Titanic\n",
    "\n",
    "1) Abrir el CSV de titanic\n",
    "\n",
    "2) Obtener los nombres de todas las columnas, luego iterar ese objeto e imprimir renglón a renglón lo siguiente:\n",
    "“Valores nulos en Survived: 10” donde 10 sea el total de valores nulos o faltantes en la\n",
    "columna Survived\n",
    "\n",
    "3) Averiguar cuál fue la media de las edades e imprimir “El promedio de edades fue: prom”\n",
    "\n",
    "4) Crear una tabla con la cantidad de sobrevivientes divididos por sexo\n",
    "\n",
    "5) Graficar esa tabla con un gráfico acorde\n"
   ]
  },
  {
   "cell_type": "code",
   "execution_count": 2,
   "id": "b28c4de1",
   "metadata": {},
   "outputs": [],
   "source": [
    "import pandas as pd\n",
    "import numpy as np\n",
    "import matplotlib.pyplot as plt"
   ]
  },
  {
   "cell_type": "markdown",
   "id": "489a3ba9",
   "metadata": {},
   "source": [
    "  "
   ]
  },
  {
   "cell_type": "markdown",
   "id": "fe8bd906",
   "metadata": {},
   "source": [
    "1) Abrir el CSV de titanic"
   ]
  },
  {
   "cell_type": "code",
   "execution_count": 3,
   "id": "487144a0",
   "metadata": {},
   "outputs": [
    {
     "name": "stdout",
     "output_type": "stream",
     "text": [
      "   pclass  survived                                             name     sex  \\\n",
      "0       1         1                    Allen, Miss. Elisabeth Walton  female   \n",
      "1       1         1                   Allison, Master. Hudson Trevor    male   \n",
      "2       1         0                     Allison, Miss. Helen Loraine  female   \n",
      "3       1         0             Allison, Mr. Hudson Joshua Creighton    male   \n",
      "4       1         0  Allison, Mrs. Hudson J C (Bessie Waldo Daniels)  female   \n",
      "\n",
      "       age  sibsp  parch  ticket      fare    cabin embarked boat   body  \\\n",
      "0  29.0000      0      0   24160  211.3375       B5        S    2    NaN   \n",
      "1   0.9167      1      2  113781  151.5500  C22 C26        S   11    NaN   \n",
      "2   2.0000      1      2  113781  151.5500  C22 C26        S  NaN    NaN   \n",
      "3  30.0000      1      2  113781  151.5500  C22 C26        S  NaN  135.0   \n",
      "4  25.0000      1      2  113781  151.5500  C22 C26        S  NaN    NaN   \n",
      "\n",
      "                         home.dest  \n",
      "0                     St Louis, MO  \n",
      "1  Montreal, PQ / Chesterville, ON  \n",
      "2  Montreal, PQ / Chesterville, ON  \n",
      "3  Montreal, PQ / Chesterville, ON  \n",
      "4  Montreal, PQ / Chesterville, ON  \n"
     ]
    }
   ],
   "source": [
    "df = pd.read_csv('titanic3.csv')\n",
    "print(df.head())"
   ]
  },
  {
   "cell_type": "markdown",
   "id": "7d54d5ee",
   "metadata": {},
   "source": [
    "   "
   ]
  },
  {
   "cell_type": "markdown",
   "id": "8354773e",
   "metadata": {},
   "source": [
    "2) Obtener los nombres de todas las columnas, luego iterar ese objeto e imprimir renglón a renglón lo siguiente: “Valores nulos en Survived: 10” donde 10 sea el total de valores nulos o faltantes en la columna Survived"
   ]
  },
  {
   "cell_type": "code",
   "execution_count": 4,
   "id": "3566ae40",
   "metadata": {},
   "outputs": [
    {
     "name": "stdout",
     "output_type": "stream",
     "text": [
      "Valores nulos en pclass : 0\n",
      "Valores nulos en survived : 0\n",
      "Valores nulos en name : 0\n",
      "Valores nulos en sex : 0\n",
      "Valores nulos en age : 263\n",
      "Valores nulos en sibsp : 0\n",
      "Valores nulos en parch : 0\n",
      "Valores nulos en ticket : 0\n",
      "Valores nulos en fare : 1\n",
      "Valores nulos en cabin : 1014\n",
      "Valores nulos en embarked : 2\n",
      "Valores nulos en boat : 823\n",
      "Valores nulos en body : 1188\n",
      "Valores nulos en home.dest : 564\n"
     ]
    }
   ],
   "source": [
    "nombre_columnas = df.columns.values\n",
    "\n",
    "for nom in nombre_columnas:\n",
    "    print(f'Valores nulos en {nom} : {df[nom].isnull().sum()}')"
   ]
  },
  {
   "cell_type": "markdown",
   "id": "a8de18b8",
   "metadata": {},
   "source": [
    "   "
   ]
  },
  {
   "cell_type": "markdown",
   "id": "5a215a09",
   "metadata": {},
   "source": [
    "3) Averiguar cuál fue la media de las edades e imprimir “El promedio de edades fue: prom”"
   ]
  },
  {
   "cell_type": "code",
   "execution_count": 5,
   "id": "a5449f1c",
   "metadata": {},
   "outputs": [
    {
     "name": "stdout",
     "output_type": "stream",
     "text": [
      "El promedio de edades fue: 29.8811345124283\n"
     ]
    }
   ],
   "source": [
    "promedio_edades = df['age'].mean()\n",
    "print(f'El promedio de edades fue: {promedio_edades}')"
   ]
  },
  {
   "cell_type": "markdown",
   "id": "825e7bb8",
   "metadata": {},
   "source": [
    "   "
   ]
  },
  {
   "cell_type": "markdown",
   "id": "66e65900",
   "metadata": {},
   "source": [
    "4) Crear una tabla con la cantidad de sobrevivientes divididos por sexo"
   ]
  },
  {
   "cell_type": "code",
   "execution_count": 6,
   "id": "60effbf5",
   "metadata": {},
   "outputs": [
    {
     "name": "stdout",
     "output_type": "stream",
     "text": [
      "        survived\n",
      "sex             \n",
      "female       339\n",
      "male         161\n"
     ]
    }
   ],
   "source": [
    "sobrevivientes_sexo = df.pivot_table('survived', 'sex', aggfunc=sum)\n",
    "print(sobrevivientes_sexo)"
   ]
  },
  {
   "cell_type": "markdown",
   "id": "8626ada6",
   "metadata": {},
   "source": [
    "   "
   ]
  },
  {
   "cell_type": "markdown",
   "id": "b7acb638",
   "metadata": {},
   "source": [
    "5) Graficar esa tabla con un gráfico acorde"
   ]
  },
  {
   "cell_type": "code",
   "execution_count": 7,
   "id": "d95f772b",
   "metadata": {},
   "outputs": [
    {
     "data": {
      "image/png": "[encoded data removed]",
      "text/plain": [
       "<Figure size 640x480 with 1 Axes>"
      ]
     },
     "metadata": {},
     "output_type": "display_data"
    }
   ],
   "source": [
    "data = sobrevivientes_sexo['survived']\n",
    "categorías = ['Mujeres', 'Varones']\n",
    "colores = ['lightblue', 'orange']\n",
    "\n",
    "plt.pie(data, labels=categorías, colors= colores, shadow=True, autopct='%1.1f%%')\n",
    "plt.title('Sobrevivientes')\n",
    "plt.show()"
   ]
  },
  {
   "attachments": {},
   "cell_type": "markdown",
   "id": "607fc3b6",
   "metadata": {},
   "source": [
    "para hacer el grafico de barras debería contar la cantidad de female y la cantidad de varones y que quede un arreglo con las cantidades\n",
    "y despues pasarlo como eje x del grafico, y el eje y serían los sobrevivientes."
   ]
  }
 ],
 "metadata": {
  "kernelspec": {
   "display_name": "Cursovirtualenv",
   "language": "python",
   "name": "python3"
  },
  "language_info": {
   "codemirror_mode": {
    "name": "ipython",
    "version": 3
   },
   "file_extension": ".py",
   "mimetype": "text/x-python",
   "name": "python",
   "nbconvert_exporter": "python",
   "pygments_lexer": "ipython3",
   "version": "3.10.6 (main, Nov 14 2022, 16:10:14) [GCC 11.3.0]"
  },
  "vscode": {
   "interpreter": {
    "hash": "b1e4157fda6827415003d93f9c4072d01f592a40fdc7d35cfd1361dc235e0d9a"
   }
  }
 },
 "nbformat": 4,
 "nbformat_minor": 5
}
