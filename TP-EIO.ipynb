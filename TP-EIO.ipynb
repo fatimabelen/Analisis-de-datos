{
 "cells": [
  {
   "cell_type": "markdown",
   "id": "c229ec11",
   "metadata": {},
   "source": [
    "# TRABAJO  PRÁCTICO"
   ]
  },
  {
   "cell_type": "markdown",
   "id": "019cfa01",
   "metadata": {},
   "source": [
    "# Exploración y Procesamiento de los Datos"
   ]
  },
  {
   "cell_type": "markdown",
   "id": "1c43bb22",
   "metadata": {},
   "source": [
    "Importo las librerías **Pandas** y **Numpy** con los alias **`pd`** y **`np`** respectivamente"
   ]
  },
  {
   "cell_type": "code",
   "execution_count": 4,
   "id": "072e504c",
   "metadata": {},
   "outputs": [],
   "source": [
    "import pandas as pd\n",
    "import numpy as np"
   ]
  },
  {
   "cell_type": "markdown",
   "id": "4ffdfcfd",
   "metadata": {},
   "source": [
    "## Importación del dataset para crear el dataframe\n",
    "\n",
    "Importo el dataset que es un archivo de excel usando la función **`read_excel()`** de Pandas. Y el resultado lo almaceno en la variable **`df`**."
   ]
  },
  {
   "cell_type": "code",
   "execution_count": 5,
   "id": "00f00f8e",
   "metadata": {},
   "outputs": [
    {
     "data": {
      "text/html": [
       "<div>\n",
       "<style scoped>\n",
       "    .dataframe tbody tr th:only-of-type {\n",
       "        vertical-align: middle;\n",
       "    }\n",
       "\n",
       "    .dataframe tbody tr th {\n",
       "        vertical-align: top;\n",
       "    }\n",
       "\n",
       "    .dataframe thead th {\n",
       "        text-align: right;\n",
       "    }\n",
       "</style>\n",
       "<table border=\"1\" class=\"dataframe\">\n",
       "  <thead>\n",
       "    <tr style=\"text-align: right;\">\n",
       "      <th></th>\n",
       "      <th>YearsExperience,Salary</th>\n",
       "    </tr>\n",
       "  </thead>\n",
       "  <tbody>\n",
       "    <tr>\n",
       "      <th>0</th>\n",
       "      <td>1.1,39343</td>\n",
       "    </tr>\n",
       "    <tr>\n",
       "      <th>1</th>\n",
       "      <td>1.3,46205</td>\n",
       "    </tr>\n",
       "    <tr>\n",
       "      <th>2</th>\n",
       "      <td>1.5,37731</td>\n",
       "    </tr>\n",
       "    <tr>\n",
       "      <th>3</th>\n",
       "      <td>2.43525</td>\n",
       "    </tr>\n",
       "    <tr>\n",
       "      <th>4</th>\n",
       "      <td>2.2,39891</td>\n",
       "    </tr>\n",
       "    <tr>\n",
       "      <th>5</th>\n",
       "      <td>2.9,56642</td>\n",
       "    </tr>\n",
       "    <tr>\n",
       "      <th>6</th>\n",
       "      <td>3.6015</td>\n",
       "    </tr>\n",
       "    <tr>\n",
       "      <th>7</th>\n",
       "      <td>3.2,54445</td>\n",
       "    </tr>\n",
       "    <tr>\n",
       "      <th>8</th>\n",
       "      <td>3.2,64445</td>\n",
       "    </tr>\n",
       "    <tr>\n",
       "      <th>9</th>\n",
       "      <td>3.7,57189</td>\n",
       "    </tr>\n",
       "    <tr>\n",
       "      <th>10</th>\n",
       "      <td>3.9,63218</td>\n",
       "    </tr>\n",
       "    <tr>\n",
       "      <th>11</th>\n",
       "      <td>4.55794</td>\n",
       "    </tr>\n",
       "    <tr>\n",
       "      <th>12</th>\n",
       "      <td>4.56957</td>\n",
       "    </tr>\n",
       "    <tr>\n",
       "      <th>13</th>\n",
       "      <td>4.1,57081</td>\n",
       "    </tr>\n",
       "    <tr>\n",
       "      <th>14</th>\n",
       "      <td>4.5,61111</td>\n",
       "    </tr>\n",
       "    <tr>\n",
       "      <th>15</th>\n",
       "      <td>4.9,67938</td>\n",
       "    </tr>\n",
       "    <tr>\n",
       "      <th>16</th>\n",
       "      <td>5.1,66029</td>\n",
       "    </tr>\n",
       "    <tr>\n",
       "      <th>17</th>\n",
       "      <td>5.3,83088</td>\n",
       "    </tr>\n",
       "    <tr>\n",
       "      <th>18</th>\n",
       "      <td>5.9,81363</td>\n",
       "    </tr>\n",
       "    <tr>\n",
       "      <th>19</th>\n",
       "      <td>6.9394</td>\n",
       "    </tr>\n",
       "    <tr>\n",
       "      <th>20</th>\n",
       "      <td>6.8,91738</td>\n",
       "    </tr>\n",
       "    <tr>\n",
       "      <th>21</th>\n",
       "      <td>7.1,98273</td>\n",
       "    </tr>\n",
       "    <tr>\n",
       "      <th>22</th>\n",
       "      <td>7.9,101302</td>\n",
       "    </tr>\n",
       "    <tr>\n",
       "      <th>23</th>\n",
       "      <td>8.2,113812</td>\n",
       "    </tr>\n",
       "    <tr>\n",
       "      <th>24</th>\n",
       "      <td>8.7,109431</td>\n",
       "    </tr>\n",
       "    <tr>\n",
       "      <th>25</th>\n",
       "      <td>9.105582</td>\n",
       "    </tr>\n",
       "    <tr>\n",
       "      <th>26</th>\n",
       "      <td>9.5,116969</td>\n",
       "    </tr>\n",
       "    <tr>\n",
       "      <th>27</th>\n",
       "      <td>9.6,112635</td>\n",
       "    </tr>\n",
       "    <tr>\n",
       "      <th>28</th>\n",
       "      <td>10.3,122391</td>\n",
       "    </tr>\n",
       "    <tr>\n",
       "      <th>29</th>\n",
       "      <td>10.5,121872</td>\n",
       "    </tr>\n",
       "    <tr>\n",
       "      <th>30</th>\n",
       "      <td>11.2,127345</td>\n",
       "    </tr>\n",
       "    <tr>\n",
       "      <th>31</th>\n",
       "      <td>11.5,126756</td>\n",
       "    </tr>\n",
       "    <tr>\n",
       "      <th>32</th>\n",
       "      <td>12.3,128765</td>\n",
       "    </tr>\n",
       "    <tr>\n",
       "      <th>33</th>\n",
       "      <td>12.9,135675</td>\n",
       "    </tr>\n",
       "    <tr>\n",
       "      <th>34</th>\n",
       "      <td>13.5,139465</td>\n",
       "    </tr>\n",
       "  </tbody>\n",
       "</table>\n",
       "</div>"
      ],
      "text/plain": [
       "   YearsExperience,Salary\n",
       "0               1.1,39343\n",
       "1               1.3,46205\n",
       "2               1.5,37731\n",
       "3                 2.43525\n",
       "4               2.2,39891\n",
       "5               2.9,56642\n",
       "6                  3.6015\n",
       "7               3.2,54445\n",
       "8               3.2,64445\n",
       "9               3.7,57189\n",
       "10              3.9,63218\n",
       "11                4.55794\n",
       "12                4.56957\n",
       "13              4.1,57081\n",
       "14              4.5,61111\n",
       "15              4.9,67938\n",
       "16              5.1,66029\n",
       "17              5.3,83088\n",
       "18              5.9,81363\n",
       "19                 6.9394\n",
       "20              6.8,91738\n",
       "21              7.1,98273\n",
       "22             7.9,101302\n",
       "23             8.2,113812\n",
       "24             8.7,109431\n",
       "25               9.105582\n",
       "26             9.5,116969\n",
       "27             9.6,112635\n",
       "28            10.3,122391\n",
       "29            10.5,121872\n",
       "30            11.2,127345\n",
       "31            11.5,126756\n",
       "32            12.3,128765\n",
       "33            12.9,135675\n",
       "34            13.5,139465"
      ]
     },
     "execution_count": 5,
     "metadata": {},
     "output_type": "execute_result"
    }
   ],
   "source": [
    "df = pd.read_excel('Salary.xlsx')\n",
    "df"
   ]
  },
  {
   "cell_type": "markdown",
   "id": "9a667f81",
   "metadata": {},
   "source": [
    "## Exploración de los datos del dataframe\n",
    "\n",
    "### Tipos de datos originales: \n",
    "Se le aplica al dataframe el atributo **`dtypes`** para ver el tipo de dato de la columna:"
   ]
  },
  {
   "cell_type": "code",
   "execution_count": 6,
   "id": "828db3ac",
   "metadata": {},
   "outputs": [
    {
     "data": {
      "text/plain": [
       "YearsExperience,Salary    object\n",
       "dtype: object"
      ]
     },
     "execution_count": 6,
     "metadata": {},
     "output_type": "execute_result"
    }
   ],
   "source": [
    "df.dtypes"
   ]
  },
  {
   "cell_type": "markdown",
   "id": "10797776",
   "metadata": {},
   "source": [
    "Como el tipo de dato de la columna en Pandas es object puede ser que tenga en la misma columna distintos tipos de datos. Para ver qué tipo de datos hay accedo a la columna y le aplico el método **`apply()`** con el atributo `type`.\n",
    "\n"
   ]
  },
  {
   "cell_type": "code",
   "execution_count": 7,
   "id": "fc3fb550",
   "metadata": {},
   "outputs": [
    {
     "data": {
      "text/plain": [
       "0       <class 'str'>\n",
       "1       <class 'str'>\n",
       "2       <class 'str'>\n",
       "3     <class 'float'>\n",
       "4       <class 'str'>\n",
       "5       <class 'str'>\n",
       "6     <class 'float'>\n",
       "7       <class 'str'>\n",
       "8       <class 'str'>\n",
       "9       <class 'str'>\n",
       "10      <class 'str'>\n",
       "11    <class 'float'>\n",
       "12    <class 'float'>\n",
       "13      <class 'str'>\n",
       "14      <class 'str'>\n",
       "15      <class 'str'>\n",
       "16      <class 'str'>\n",
       "17      <class 'str'>\n",
       "18      <class 'str'>\n",
       "19    <class 'float'>\n",
       "20      <class 'str'>\n",
       "21      <class 'str'>\n",
       "22      <class 'str'>\n",
       "23      <class 'str'>\n",
       "24      <class 'str'>\n",
       "25    <class 'float'>\n",
       "26      <class 'str'>\n",
       "27      <class 'str'>\n",
       "28      <class 'str'>\n",
       "29      <class 'str'>\n",
       "30      <class 'str'>\n",
       "31      <class 'str'>\n",
       "32      <class 'str'>\n",
       "33      <class 'str'>\n",
       "34      <class 'str'>\n",
       "Name: YearsExperience,Salary, dtype: object"
      ]
     },
     "execution_count": 7,
     "metadata": {},
     "output_type": "execute_result"
    }
   ],
   "source": [
    "df['YearsExperience,Salary'].apply(type)"
   ]
  },
  {
   "cell_type": "markdown",
   "id": "f173dc50",
   "metadata": {},
   "source": [
    "Así se puede ver que en la columna hay valores de tipo str y valores de tipo float.\n",
    "\n",
    "En el dataframe se puede ver que los valores de tipo string lo son porque tienen una coma (,) que separa los años de experiencia del salario. Para separar estos dos valores en dos columnas distintas aplico el método **`str.split()`** con el parametro `,` que indica que la división se hace en la coma, y el parametro `expand=True` para indicar que caada resultado de la escisión del string va en dos columnas separadas.  El dataframe resultante se almacena en una nueva variable. "
   ]
  },
  {
   "cell_type": "code",
   "execution_count": 8,
   "id": "f51887d5",
   "metadata": {},
   "outputs": [
    {
     "data": {
      "text/html": [
       "<div>\n",
       "<style scoped>\n",
       "    .dataframe tbody tr th:only-of-type {\n",
       "        vertical-align: middle;\n",
       "    }\n",
       "\n",
       "    .dataframe tbody tr th {\n",
       "        vertical-align: top;\n",
       "    }\n",
       "\n",
       "    .dataframe thead th {\n",
       "        text-align: right;\n",
       "    }\n",
       "</style>\n",
       "<table border=\"1\" class=\"dataframe\">\n",
       "  <thead>\n",
       "    <tr style=\"text-align: right;\">\n",
       "      <th></th>\n",
       "      <th>0</th>\n",
       "      <th>1</th>\n",
       "    </tr>\n",
       "  </thead>\n",
       "  <tbody>\n",
       "    <tr>\n",
       "      <th>0</th>\n",
       "      <td>1.1</td>\n",
       "      <td>39343</td>\n",
       "    </tr>\n",
       "    <tr>\n",
       "      <th>1</th>\n",
       "      <td>1.3</td>\n",
       "      <td>46205</td>\n",
       "    </tr>\n",
       "    <tr>\n",
       "      <th>2</th>\n",
       "      <td>1.5</td>\n",
       "      <td>37731</td>\n",
       "    </tr>\n",
       "    <tr>\n",
       "      <th>3</th>\n",
       "      <td>NaN</td>\n",
       "      <td>NaN</td>\n",
       "    </tr>\n",
       "    <tr>\n",
       "      <th>4</th>\n",
       "      <td>2.2</td>\n",
       "      <td>39891</td>\n",
       "    </tr>\n",
       "    <tr>\n",
       "      <th>5</th>\n",
       "      <td>2.9</td>\n",
       "      <td>56642</td>\n",
       "    </tr>\n",
       "    <tr>\n",
       "      <th>6</th>\n",
       "      <td>NaN</td>\n",
       "      <td>NaN</td>\n",
       "    </tr>\n",
       "    <tr>\n",
       "      <th>7</th>\n",
       "      <td>3.2</td>\n",
       "      <td>54445</td>\n",
       "    </tr>\n",
       "    <tr>\n",
       "      <th>8</th>\n",
       "      <td>3.2</td>\n",
       "      <td>64445</td>\n",
       "    </tr>\n",
       "    <tr>\n",
       "      <th>9</th>\n",
       "      <td>3.7</td>\n",
       "      <td>57189</td>\n",
       "    </tr>\n",
       "    <tr>\n",
       "      <th>10</th>\n",
       "      <td>3.9</td>\n",
       "      <td>63218</td>\n",
       "    </tr>\n",
       "    <tr>\n",
       "      <th>11</th>\n",
       "      <td>NaN</td>\n",
       "      <td>NaN</td>\n",
       "    </tr>\n",
       "    <tr>\n",
       "      <th>12</th>\n",
       "      <td>NaN</td>\n",
       "      <td>NaN</td>\n",
       "    </tr>\n",
       "    <tr>\n",
       "      <th>13</th>\n",
       "      <td>4.1</td>\n",
       "      <td>57081</td>\n",
       "    </tr>\n",
       "    <tr>\n",
       "      <th>14</th>\n",
       "      <td>4.5</td>\n",
       "      <td>61111</td>\n",
       "    </tr>\n",
       "    <tr>\n",
       "      <th>15</th>\n",
       "      <td>4.9</td>\n",
       "      <td>67938</td>\n",
       "    </tr>\n",
       "    <tr>\n",
       "      <th>16</th>\n",
       "      <td>5.1</td>\n",
       "      <td>66029</td>\n",
       "    </tr>\n",
       "    <tr>\n",
       "      <th>17</th>\n",
       "      <td>5.3</td>\n",
       "      <td>83088</td>\n",
       "    </tr>\n",
       "    <tr>\n",
       "      <th>18</th>\n",
       "      <td>5.9</td>\n",
       "      <td>81363</td>\n",
       "    </tr>\n",
       "    <tr>\n",
       "      <th>19</th>\n",
       "      <td>NaN</td>\n",
       "      <td>NaN</td>\n",
       "    </tr>\n",
       "    <tr>\n",
       "      <th>20</th>\n",
       "      <td>6.8</td>\n",
       "      <td>91738</td>\n",
       "    </tr>\n",
       "    <tr>\n",
       "      <th>21</th>\n",
       "      <td>7.1</td>\n",
       "      <td>98273</td>\n",
       "    </tr>\n",
       "    <tr>\n",
       "      <th>22</th>\n",
       "      <td>7.9</td>\n",
       "      <td>101302</td>\n",
       "    </tr>\n",
       "    <tr>\n",
       "      <th>23</th>\n",
       "      <td>8.2</td>\n",
       "      <td>113812</td>\n",
       "    </tr>\n",
       "    <tr>\n",
       "      <th>24</th>\n",
       "      <td>8.7</td>\n",
       "      <td>109431</td>\n",
       "    </tr>\n",
       "    <tr>\n",
       "      <th>25</th>\n",
       "      <td>NaN</td>\n",
       "      <td>NaN</td>\n",
       "    </tr>\n",
       "    <tr>\n",
       "      <th>26</th>\n",
       "      <td>9.5</td>\n",
       "      <td>116969</td>\n",
       "    </tr>\n",
       "    <tr>\n",
       "      <th>27</th>\n",
       "      <td>9.6</td>\n",
       "      <td>112635</td>\n",
       "    </tr>\n",
       "    <tr>\n",
       "      <th>28</th>\n",
       "      <td>10.3</td>\n",
       "      <td>122391</td>\n",
       "    </tr>\n",
       "    <tr>\n",
       "      <th>29</th>\n",
       "      <td>10.5</td>\n",
       "      <td>121872</td>\n",
       "    </tr>\n",
       "    <tr>\n",
       "      <th>30</th>\n",
       "      <td>11.2</td>\n",
       "      <td>127345</td>\n",
       "    </tr>\n",
       "    <tr>\n",
       "      <th>31</th>\n",
       "      <td>11.5</td>\n",
       "      <td>126756</td>\n",
       "    </tr>\n",
       "    <tr>\n",
       "      <th>32</th>\n",
       "      <td>12.3</td>\n",
       "      <td>128765</td>\n",
       "    </tr>\n",
       "    <tr>\n",
       "      <th>33</th>\n",
       "      <td>12.9</td>\n",
       "      <td>135675</td>\n",
       "    </tr>\n",
       "    <tr>\n",
       "      <th>34</th>\n",
       "      <td>13.5</td>\n",
       "      <td>139465</td>\n",
       "    </tr>\n",
       "  </tbody>\n",
       "</table>\n",
       "</div>"
      ],
      "text/plain": [
       "       0       1\n",
       "0    1.1   39343\n",
       "1    1.3   46205\n",
       "2    1.5   37731\n",
       "3    NaN     NaN\n",
       "4    2.2   39891\n",
       "5    2.9   56642\n",
       "6    NaN     NaN\n",
       "7    3.2   54445\n",
       "8    3.2   64445\n",
       "9    3.7   57189\n",
       "10   3.9   63218\n",
       "11   NaN     NaN\n",
       "12   NaN     NaN\n",
       "13   4.1   57081\n",
       "14   4.5   61111\n",
       "15   4.9   67938\n",
       "16   5.1   66029\n",
       "17   5.3   83088\n",
       "18   5.9   81363\n",
       "19   NaN     NaN\n",
       "20   6.8   91738\n",
       "21   7.1   98273\n",
       "22   7.9  101302\n",
       "23   8.2  113812\n",
       "24   8.7  109431\n",
       "25   NaN     NaN\n",
       "26   9.5  116969\n",
       "27   9.6  112635\n",
       "28  10.3  122391\n",
       "29  10.5  121872\n",
       "30  11.2  127345\n",
       "31  11.5  126756\n",
       "32  12.3  128765\n",
       "33  12.9  135675\n",
       "34  13.5  139465"
      ]
     },
     "execution_count": 8,
     "metadata": {},
     "output_type": "execute_result"
    }
   ],
   "source": [
    "df1 = df['YearsExperience,Salary'].str.split(pat=',', expand=True)\n",
    "df1"
   ]
  },
  {
   "cell_type": "markdown",
   "id": "60a79506",
   "metadata": {},
   "source": [
    "Como se puede ver el dataframe resultante contiene valores NaN que corresponden a los valores de tipo float del dataframe original, y se mantienen como valores NaN para el tratamiendo del dataframe. "
   ]
  },
  {
   "cell_type": "markdown",
   "id": "09673fdc",
   "metadata": {},
   "source": [
    "### Cambio de nombre de las columnas:\n",
    "\n",
    "A continuación, utilizamos el método **`rename()`** para renombrar las columnas, para ellos se pasa como parametro un diccionario donde la clave es el nombre original de la columna y el valor es el nuevo nombre de la columna. Y se pasa por parametro el `inplace=True` para que el cambio de nombre de columna se realice en el objeto asignado, es decir, en el mismo dataframe.\n",
    "\n"
   ]
  },
  {
   "cell_type": "code",
   "execution_count": 9,
   "id": "4762703b",
   "metadata": {},
   "outputs": [
    {
     "data": {
      "text/html": [
       "<div>\n",
       "<style scoped>\n",
       "    .dataframe tbody tr th:only-of-type {\n",
       "        vertical-align: middle;\n",
       "    }\n",
       "\n",
       "    .dataframe tbody tr th {\n",
       "        vertical-align: top;\n",
       "    }\n",
       "\n",
       "    .dataframe thead th {\n",
       "        text-align: right;\n",
       "    }\n",
       "</style>\n",
       "<table border=\"1\" class=\"dataframe\">\n",
       "  <thead>\n",
       "    <tr style=\"text-align: right;\">\n",
       "      <th></th>\n",
       "      <th>Años de experiencia</th>\n",
       "      <th>Sueldo</th>\n",
       "    </tr>\n",
       "  </thead>\n",
       "  <tbody>\n",
       "    <tr>\n",
       "      <th>0</th>\n",
       "      <td>1.1</td>\n",
       "      <td>39343</td>\n",
       "    </tr>\n",
       "    <tr>\n",
       "      <th>1</th>\n",
       "      <td>1.3</td>\n",
       "      <td>46205</td>\n",
       "    </tr>\n",
       "    <tr>\n",
       "      <th>2</th>\n",
       "      <td>1.5</td>\n",
       "      <td>37731</td>\n",
       "    </tr>\n",
       "    <tr>\n",
       "      <th>3</th>\n",
       "      <td>NaN</td>\n",
       "      <td>NaN</td>\n",
       "    </tr>\n",
       "    <tr>\n",
       "      <th>4</th>\n",
       "      <td>2.2</td>\n",
       "      <td>39891</td>\n",
       "    </tr>\n",
       "    <tr>\n",
       "      <th>5</th>\n",
       "      <td>2.9</td>\n",
       "      <td>56642</td>\n",
       "    </tr>\n",
       "    <tr>\n",
       "      <th>6</th>\n",
       "      <td>NaN</td>\n",
       "      <td>NaN</td>\n",
       "    </tr>\n",
       "    <tr>\n",
       "      <th>7</th>\n",
       "      <td>3.2</td>\n",
       "      <td>54445</td>\n",
       "    </tr>\n",
       "    <tr>\n",
       "      <th>8</th>\n",
       "      <td>3.2</td>\n",
       "      <td>64445</td>\n",
       "    </tr>\n",
       "    <tr>\n",
       "      <th>9</th>\n",
       "      <td>3.7</td>\n",
       "      <td>57189</td>\n",
       "    </tr>\n",
       "    <tr>\n",
       "      <th>10</th>\n",
       "      <td>3.9</td>\n",
       "      <td>63218</td>\n",
       "    </tr>\n",
       "    <tr>\n",
       "      <th>11</th>\n",
       "      <td>NaN</td>\n",
       "      <td>NaN</td>\n",
       "    </tr>\n",
       "    <tr>\n",
       "      <th>12</th>\n",
       "      <td>NaN</td>\n",
       "      <td>NaN</td>\n",
       "    </tr>\n",
       "    <tr>\n",
       "      <th>13</th>\n",
       "      <td>4.1</td>\n",
       "      <td>57081</td>\n",
       "    </tr>\n",
       "    <tr>\n",
       "      <th>14</th>\n",
       "      <td>4.5</td>\n",
       "      <td>61111</td>\n",
       "    </tr>\n",
       "    <tr>\n",
       "      <th>15</th>\n",
       "      <td>4.9</td>\n",
       "      <td>67938</td>\n",
       "    </tr>\n",
       "    <tr>\n",
       "      <th>16</th>\n",
       "      <td>5.1</td>\n",
       "      <td>66029</td>\n",
       "    </tr>\n",
       "    <tr>\n",
       "      <th>17</th>\n",
       "      <td>5.3</td>\n",
       "      <td>83088</td>\n",
       "    </tr>\n",
       "    <tr>\n",
       "      <th>18</th>\n",
       "      <td>5.9</td>\n",
       "      <td>81363</td>\n",
       "    </tr>\n",
       "    <tr>\n",
       "      <th>19</th>\n",
       "      <td>NaN</td>\n",
       "      <td>NaN</td>\n",
       "    </tr>\n",
       "    <tr>\n",
       "      <th>20</th>\n",
       "      <td>6.8</td>\n",
       "      <td>91738</td>\n",
       "    </tr>\n",
       "    <tr>\n",
       "      <th>21</th>\n",
       "      <td>7.1</td>\n",
       "      <td>98273</td>\n",
       "    </tr>\n",
       "    <tr>\n",
       "      <th>22</th>\n",
       "      <td>7.9</td>\n",
       "      <td>101302</td>\n",
       "    </tr>\n",
       "    <tr>\n",
       "      <th>23</th>\n",
       "      <td>8.2</td>\n",
       "      <td>113812</td>\n",
       "    </tr>\n",
       "    <tr>\n",
       "      <th>24</th>\n",
       "      <td>8.7</td>\n",
       "      <td>109431</td>\n",
       "    </tr>\n",
       "    <tr>\n",
       "      <th>25</th>\n",
       "      <td>NaN</td>\n",
       "      <td>NaN</td>\n",
       "    </tr>\n",
       "    <tr>\n",
       "      <th>26</th>\n",
       "      <td>9.5</td>\n",
       "      <td>116969</td>\n",
       "    </tr>\n",
       "    <tr>\n",
       "      <th>27</th>\n",
       "      <td>9.6</td>\n",
       "      <td>112635</td>\n",
       "    </tr>\n",
       "    <tr>\n",
       "      <th>28</th>\n",
       "      <td>10.3</td>\n",
       "      <td>122391</td>\n",
       "    </tr>\n",
       "    <tr>\n",
       "      <th>29</th>\n",
       "      <td>10.5</td>\n",
       "      <td>121872</td>\n",
       "    </tr>\n",
       "    <tr>\n",
       "      <th>30</th>\n",
       "      <td>11.2</td>\n",
       "      <td>127345</td>\n",
       "    </tr>\n",
       "    <tr>\n",
       "      <th>31</th>\n",
       "      <td>11.5</td>\n",
       "      <td>126756</td>\n",
       "    </tr>\n",
       "    <tr>\n",
       "      <th>32</th>\n",
       "      <td>12.3</td>\n",
       "      <td>128765</td>\n",
       "    </tr>\n",
       "    <tr>\n",
       "      <th>33</th>\n",
       "      <td>12.9</td>\n",
       "      <td>135675</td>\n",
       "    </tr>\n",
       "    <tr>\n",
       "      <th>34</th>\n",
       "      <td>13.5</td>\n",
       "      <td>139465</td>\n",
       "    </tr>\n",
       "  </tbody>\n",
       "</table>\n",
       "</div>"
      ],
      "text/plain": [
       "   Años de experiencia  Sueldo\n",
       "0                  1.1   39343\n",
       "1                  1.3   46205\n",
       "2                  1.5   37731\n",
       "3                  NaN     NaN\n",
       "4                  2.2   39891\n",
       "5                  2.9   56642\n",
       "6                  NaN     NaN\n",
       "7                  3.2   54445\n",
       "8                  3.2   64445\n",
       "9                  3.7   57189\n",
       "10                 3.9   63218\n",
       "11                 NaN     NaN\n",
       "12                 NaN     NaN\n",
       "13                 4.1   57081\n",
       "14                 4.5   61111\n",
       "15                 4.9   67938\n",
       "16                 5.1   66029\n",
       "17                 5.3   83088\n",
       "18                 5.9   81363\n",
       "19                 NaN     NaN\n",
       "20                 6.8   91738\n",
       "21                 7.1   98273\n",
       "22                 7.9  101302\n",
       "23                 8.2  113812\n",
       "24                 8.7  109431\n",
       "25                 NaN     NaN\n",
       "26                 9.5  116969\n",
       "27                 9.6  112635\n",
       "28                10.3  122391\n",
       "29                10.5  121872\n",
       "30                11.2  127345\n",
       "31                11.5  126756\n",
       "32                12.3  128765\n",
       "33                12.9  135675\n",
       "34                13.5  139465"
      ]
     },
     "execution_count": 9,
     "metadata": {},
     "output_type": "execute_result"
    }
   ],
   "source": [
    "df1.rename(columns = {0:'Años de experiencia', 1:'Sueldo'}, inplace=True)\n",
    "df1"
   ]
  },
  {
   "cell_type": "markdown",
   "id": "44d3291a",
   "metadata": {},
   "source": [
    "### Cambio de tipo de dato:"
   ]
  },
  {
   "cell_type": "code",
   "execution_count": 10,
   "id": "044c7a30",
   "metadata": {},
   "outputs": [
    {
     "data": {
      "text/plain": [
       "0       <class 'str'>\n",
       "1       <class 'str'>\n",
       "2       <class 'str'>\n",
       "3     <class 'float'>\n",
       "4       <class 'str'>\n",
       "5       <class 'str'>\n",
       "6     <class 'float'>\n",
       "7       <class 'str'>\n",
       "8       <class 'str'>\n",
       "9       <class 'str'>\n",
       "10      <class 'str'>\n",
       "11    <class 'float'>\n",
       "12    <class 'float'>\n",
       "13      <class 'str'>\n",
       "14      <class 'str'>\n",
       "15      <class 'str'>\n",
       "16      <class 'str'>\n",
       "17      <class 'str'>\n",
       "18      <class 'str'>\n",
       "19    <class 'float'>\n",
       "20      <class 'str'>\n",
       "21      <class 'str'>\n",
       "22      <class 'str'>\n",
       "23      <class 'str'>\n",
       "24      <class 'str'>\n",
       "25    <class 'float'>\n",
       "26      <class 'str'>\n",
       "27      <class 'str'>\n",
       "28      <class 'str'>\n",
       "29      <class 'str'>\n",
       "30      <class 'str'>\n",
       "31      <class 'str'>\n",
       "32      <class 'str'>\n",
       "33      <class 'str'>\n",
       "34      <class 'str'>\n",
       "Name: Años de experiencia, dtype: object"
      ]
     },
     "execution_count": 10,
     "metadata": {},
     "output_type": "execute_result"
    }
   ],
   "source": [
    "df1['Años de experiencia'].apply(type)"
   ]
  },
  {
   "cell_type": "markdown",
   "id": "d8e1a385",
   "metadata": {},
   "source": [
    "Como se puede observar aunque se haya separado los valores y colocado cada uno en su columna correspondiente, el tipo de dato de la mayoría de los valores sigue siento str, y como lo más conveniente para trabajar con datos numéricos es que sean de tipo int o float, se utiliza la función **`astype()`** para cambiar el tipo de dato de todos los valores de cada una de las dos columnas."
   ]
  },
  {
   "cell_type": "code",
   "execution_count": 11,
   "id": "58f9ca82",
   "metadata": {},
   "outputs": [],
   "source": [
    "df1['Sueldo'] = df1['Sueldo'].astype(float) #Cambio el tipo de dato de la columna Sueldo"
   ]
  },
  {
   "cell_type": "code",
   "execution_count": 12,
   "id": "a69723d0",
   "metadata": {},
   "outputs": [],
   "source": [
    "df1['Años de experiencia'] = df1['Años de experiencia'].astype(float) #cambio el tipo de dato de la columna Años de experiencia"
   ]
  },
  {
   "cell_type": "markdown",
   "id": "d70ab015",
   "metadata": {},
   "source": [
    "Verificamos que los tipo de dato sean float:"
   ]
  },
  {
   "cell_type": "code",
   "execution_count": 13,
   "id": "f18a8cda",
   "metadata": {},
   "outputs": [
    {
     "data": {
      "text/plain": [
       "0    <class 'float'>\n",
       "1    <class 'float'>\n",
       "2    <class 'float'>\n",
       "3    <class 'float'>\n",
       "4    <class 'float'>\n",
       "Name: Sueldo, dtype: object"
      ]
     },
     "execution_count": 13,
     "metadata": {},
     "output_type": "execute_result"
    }
   ],
   "source": [
    "df1['Sueldo'].apply(type).head()"
   ]
  },
  {
   "cell_type": "code",
   "execution_count": 14,
   "id": "d4a3f23f",
   "metadata": {},
   "outputs": [
    {
     "data": {
      "text/plain": [
       "0    <class 'float'>\n",
       "1    <class 'float'>\n",
       "2    <class 'float'>\n",
       "3    <class 'float'>\n",
       "4    <class 'float'>\n",
       "Name: Años de experiencia, dtype: object"
      ]
     },
     "execution_count": 14,
     "metadata": {},
     "output_type": "execute_result"
    }
   ],
   "source": [
    "df1['Años de experiencia'].apply(type).head()"
   ]
  },
  {
   "cell_type": "code",
   "execution_count": 15,
   "id": "f4d328c9",
   "metadata": {},
   "outputs": [
    {
     "data": {
      "text/html": [
       "<div>\n",
       "<style scoped>\n",
       "    .dataframe tbody tr th:only-of-type {\n",
       "        vertical-align: middle;\n",
       "    }\n",
       "\n",
       "    .dataframe tbody tr th {\n",
       "        vertical-align: top;\n",
       "    }\n",
       "\n",
       "    .dataframe thead th {\n",
       "        text-align: right;\n",
       "    }\n",
       "</style>\n",
       "<table border=\"1\" class=\"dataframe\">\n",
       "  <thead>\n",
       "    <tr style=\"text-align: right;\">\n",
       "      <th></th>\n",
       "      <th>Años de experiencia</th>\n",
       "      <th>Sueldo</th>\n",
       "    </tr>\n",
       "  </thead>\n",
       "  <tbody>\n",
       "    <tr>\n",
       "      <th>0</th>\n",
       "      <td>1.1</td>\n",
       "      <td>39343.0</td>\n",
       "    </tr>\n",
       "    <tr>\n",
       "      <th>1</th>\n",
       "      <td>1.3</td>\n",
       "      <td>46205.0</td>\n",
       "    </tr>\n",
       "    <tr>\n",
       "      <th>2</th>\n",
       "      <td>1.5</td>\n",
       "      <td>37731.0</td>\n",
       "    </tr>\n",
       "    <tr>\n",
       "      <th>3</th>\n",
       "      <td>NaN</td>\n",
       "      <td>NaN</td>\n",
       "    </tr>\n",
       "    <tr>\n",
       "      <th>4</th>\n",
       "      <td>2.2</td>\n",
       "      <td>39891.0</td>\n",
       "    </tr>\n",
       "  </tbody>\n",
       "</table>\n",
       "</div>"
      ],
      "text/plain": [
       "   Años de experiencia   Sueldo\n",
       "0                  1.1  39343.0\n",
       "1                  1.3  46205.0\n",
       "2                  1.5  37731.0\n",
       "3                  NaN      NaN\n",
       "4                  2.2  39891.0"
      ]
     },
     "execution_count": 15,
     "metadata": {},
     "output_type": "execute_result"
    }
   ],
   "source": [
    "df1.head()"
   ]
  },
  {
   "cell_type": "markdown",
   "id": "3a3e363b",
   "metadata": {},
   "source": [
    "### Descripción estadística de los datos"
   ]
  },
  {
   "cell_type": "markdown",
   "id": "225fe1ff",
   "metadata": {},
   "source": [
    "La función **`describe()`** de pandas devuelve información estadística descriptiva de las columnas: medidas de centralización, medidas de dispersión, medidas de posición, y el valor mínimo y el valor máximo de cada columna."
   ]
  },
  {
   "cell_type": "code",
   "execution_count": 16,
   "id": "199df387",
   "metadata": {},
   "outputs": [
    {
     "data": {
      "text/html": [
       "<div>\n",
       "<style scoped>\n",
       "    .dataframe tbody tr th:only-of-type {\n",
       "        vertical-align: middle;\n",
       "    }\n",
       "\n",
       "    .dataframe tbody tr th {\n",
       "        vertical-align: top;\n",
       "    }\n",
       "\n",
       "    .dataframe thead th {\n",
       "        text-align: right;\n",
       "    }\n",
       "</style>\n",
       "<table border=\"1\" class=\"dataframe\">\n",
       "  <thead>\n",
       "    <tr style=\"text-align: right;\">\n",
       "      <th></th>\n",
       "      <th>Años de experiencia</th>\n",
       "      <th>Sueldo</th>\n",
       "    </tr>\n",
       "  </thead>\n",
       "  <tbody>\n",
       "    <tr>\n",
       "      <th>count</th>\n",
       "      <td>29.000000</td>\n",
       "      <td>29.000000</td>\n",
       "    </tr>\n",
       "    <tr>\n",
       "      <th>mean</th>\n",
       "      <td>6.648276</td>\n",
       "      <td>86970.620690</td>\n",
       "    </tr>\n",
       "    <tr>\n",
       "      <th>std</th>\n",
       "      <td>3.752868</td>\n",
       "      <td>33067.317698</td>\n",
       "    </tr>\n",
       "    <tr>\n",
       "      <th>min</th>\n",
       "      <td>1.100000</td>\n",
       "      <td>37731.000000</td>\n",
       "    </tr>\n",
       "    <tr>\n",
       "      <th>25%</th>\n",
       "      <td>3.700000</td>\n",
       "      <td>57189.000000</td>\n",
       "    </tr>\n",
       "    <tr>\n",
       "      <th>50%</th>\n",
       "      <td>5.900000</td>\n",
       "      <td>83088.000000</td>\n",
       "    </tr>\n",
       "    <tr>\n",
       "      <th>75%</th>\n",
       "      <td>9.600000</td>\n",
       "      <td>116969.000000</td>\n",
       "    </tr>\n",
       "    <tr>\n",
       "      <th>max</th>\n",
       "      <td>13.500000</td>\n",
       "      <td>139465.000000</td>\n",
       "    </tr>\n",
       "  </tbody>\n",
       "</table>\n",
       "</div>"
      ],
      "text/plain": [
       "       Años de experiencia         Sueldo\n",
       "count            29.000000      29.000000\n",
       "mean              6.648276   86970.620690\n",
       "std               3.752868   33067.317698\n",
       "min               1.100000   37731.000000\n",
       "25%               3.700000   57189.000000\n",
       "50%               5.900000   83088.000000\n",
       "75%               9.600000  116969.000000\n",
       "max              13.500000  139465.000000"
      ]
     },
     "execution_count": 16,
     "metadata": {},
     "output_type": "execute_result"
    }
   ],
   "source": [
    "df1.describe()"
   ]
  },
  {
   "cell_type": "markdown",
   "id": "bbad2489",
   "metadata": {},
   "source": [
    "En este caso se describen los datos excluyendo los valores faltantes del cálculo (porque es como la función **`describe()`** maneja los valores faltantes)."
   ]
  },
  {
   "cell_type": "markdown",
   "id": "ff41c014",
   "metadata": {},
   "source": [
    "### Dimensión del dataframe"
   ]
  },
  {
   "cell_type": "markdown",
   "id": "b08f8d0d",
   "metadata": {},
   "source": [
    "Para determinar la cantidad de filas y columnas del dataframe se utiliza el atributo **`shape`**."
   ]
  },
  {
   "cell_type": "code",
   "execution_count": 17,
   "id": "73a5cdec",
   "metadata": {},
   "outputs": [
    {
     "data": {
      "text/plain": [
       "(35, 2)"
      ]
     },
     "execution_count": 17,
     "metadata": {},
     "output_type": "execute_result"
    }
   ],
   "source": [
    "df1.shape"
   ]
  },
  {
   "cell_type": "markdown",
   "id": "a834bf4f",
   "metadata": {},
   "source": [
    "El dataframe contiene 35 filas y 2 columnas."
   ]
  },
  {
   "cell_type": "markdown",
   "id": "ad26fc75",
   "metadata": {},
   "source": [
    "### Cantidad de datos no nulos"
   ]
  },
  {
   "cell_type": "markdown",
   "id": "90cd9db4",
   "metadata": {},
   "source": [
    "Con el método **`count()`** determinamos la cantidad de valores no nulos que hay en cada columna. Es el mismo método incluido en el método **`desrcribe()`**."
   ]
  },
  {
   "cell_type": "code",
   "execution_count": 18,
   "id": "f0670e7e",
   "metadata": {},
   "outputs": [
    {
     "data": {
      "text/plain": [
       "Años de experiencia    29\n",
       "Sueldo                 29\n",
       "dtype: int64"
      ]
     },
     "execution_count": 18,
     "metadata": {},
     "output_type": "execute_result"
    }
   ],
   "source": [
    "df1.count()"
   ]
  },
  {
   "cell_type": "markdown",
   "id": "0da1765c",
   "metadata": {},
   "source": [
    "Otra forma de mostrar los valores no nulos en el dataframe es utilizando el método **`notnull()`** que devuelve un dataframe con valores booleanos en donde **True** corresponde a los datos no nulos. "
   ]
  },
  {
   "cell_type": "code",
   "execution_count": 19,
   "id": "6485ebc5",
   "metadata": {},
   "outputs": [
    {
     "data": {
      "text/html": [
       "<div>\n",
       "<style scoped>\n",
       "    .dataframe tbody tr th:only-of-type {\n",
       "        vertical-align: middle;\n",
       "    }\n",
       "\n",
       "    .dataframe tbody tr th {\n",
       "        vertical-align: top;\n",
       "    }\n",
       "\n",
       "    .dataframe thead th {\n",
       "        text-align: right;\n",
       "    }\n",
       "</style>\n",
       "<table border=\"1\" class=\"dataframe\">\n",
       "  <thead>\n",
       "    <tr style=\"text-align: right;\">\n",
       "      <th></th>\n",
       "      <th>Años de experiencia</th>\n",
       "      <th>Sueldo</th>\n",
       "    </tr>\n",
       "  </thead>\n",
       "  <tbody>\n",
       "    <tr>\n",
       "      <th>0</th>\n",
       "      <td>True</td>\n",
       "      <td>True</td>\n",
       "    </tr>\n",
       "    <tr>\n",
       "      <th>1</th>\n",
       "      <td>True</td>\n",
       "      <td>True</td>\n",
       "    </tr>\n",
       "    <tr>\n",
       "      <th>2</th>\n",
       "      <td>True</td>\n",
       "      <td>True</td>\n",
       "    </tr>\n",
       "    <tr>\n",
       "      <th>3</th>\n",
       "      <td>False</td>\n",
       "      <td>False</td>\n",
       "    </tr>\n",
       "    <tr>\n",
       "      <th>4</th>\n",
       "      <td>True</td>\n",
       "      <td>True</td>\n",
       "    </tr>\n",
       "    <tr>\n",
       "      <th>5</th>\n",
       "      <td>True</td>\n",
       "      <td>True</td>\n",
       "    </tr>\n",
       "    <tr>\n",
       "      <th>6</th>\n",
       "      <td>False</td>\n",
       "      <td>False</td>\n",
       "    </tr>\n",
       "    <tr>\n",
       "      <th>7</th>\n",
       "      <td>True</td>\n",
       "      <td>True</td>\n",
       "    </tr>\n",
       "    <tr>\n",
       "      <th>8</th>\n",
       "      <td>True</td>\n",
       "      <td>True</td>\n",
       "    </tr>\n",
       "    <tr>\n",
       "      <th>9</th>\n",
       "      <td>True</td>\n",
       "      <td>True</td>\n",
       "    </tr>\n",
       "    <tr>\n",
       "      <th>10</th>\n",
       "      <td>True</td>\n",
       "      <td>True</td>\n",
       "    </tr>\n",
       "    <tr>\n",
       "      <th>11</th>\n",
       "      <td>False</td>\n",
       "      <td>False</td>\n",
       "    </tr>\n",
       "    <tr>\n",
       "      <th>12</th>\n",
       "      <td>False</td>\n",
       "      <td>False</td>\n",
       "    </tr>\n",
       "    <tr>\n",
       "      <th>13</th>\n",
       "      <td>True</td>\n",
       "      <td>True</td>\n",
       "    </tr>\n",
       "    <tr>\n",
       "      <th>14</th>\n",
       "      <td>True</td>\n",
       "      <td>True</td>\n",
       "    </tr>\n",
       "    <tr>\n",
       "      <th>15</th>\n",
       "      <td>True</td>\n",
       "      <td>True</td>\n",
       "    </tr>\n",
       "    <tr>\n",
       "      <th>16</th>\n",
       "      <td>True</td>\n",
       "      <td>True</td>\n",
       "    </tr>\n",
       "    <tr>\n",
       "      <th>17</th>\n",
       "      <td>True</td>\n",
       "      <td>True</td>\n",
       "    </tr>\n",
       "    <tr>\n",
       "      <th>18</th>\n",
       "      <td>True</td>\n",
       "      <td>True</td>\n",
       "    </tr>\n",
       "    <tr>\n",
       "      <th>19</th>\n",
       "      <td>False</td>\n",
       "      <td>False</td>\n",
       "    </tr>\n",
       "    <tr>\n",
       "      <th>20</th>\n",
       "      <td>True</td>\n",
       "      <td>True</td>\n",
       "    </tr>\n",
       "    <tr>\n",
       "      <th>21</th>\n",
       "      <td>True</td>\n",
       "      <td>True</td>\n",
       "    </tr>\n",
       "    <tr>\n",
       "      <th>22</th>\n",
       "      <td>True</td>\n",
       "      <td>True</td>\n",
       "    </tr>\n",
       "    <tr>\n",
       "      <th>23</th>\n",
       "      <td>True</td>\n",
       "      <td>True</td>\n",
       "    </tr>\n",
       "    <tr>\n",
       "      <th>24</th>\n",
       "      <td>True</td>\n",
       "      <td>True</td>\n",
       "    </tr>\n",
       "    <tr>\n",
       "      <th>25</th>\n",
       "      <td>False</td>\n",
       "      <td>False</td>\n",
       "    </tr>\n",
       "    <tr>\n",
       "      <th>26</th>\n",
       "      <td>True</td>\n",
       "      <td>True</td>\n",
       "    </tr>\n",
       "    <tr>\n",
       "      <th>27</th>\n",
       "      <td>True</td>\n",
       "      <td>True</td>\n",
       "    </tr>\n",
       "    <tr>\n",
       "      <th>28</th>\n",
       "      <td>True</td>\n",
       "      <td>True</td>\n",
       "    </tr>\n",
       "    <tr>\n",
       "      <th>29</th>\n",
       "      <td>True</td>\n",
       "      <td>True</td>\n",
       "    </tr>\n",
       "    <tr>\n",
       "      <th>30</th>\n",
       "      <td>True</td>\n",
       "      <td>True</td>\n",
       "    </tr>\n",
       "    <tr>\n",
       "      <th>31</th>\n",
       "      <td>True</td>\n",
       "      <td>True</td>\n",
       "    </tr>\n",
       "    <tr>\n",
       "      <th>32</th>\n",
       "      <td>True</td>\n",
       "      <td>True</td>\n",
       "    </tr>\n",
       "    <tr>\n",
       "      <th>33</th>\n",
       "      <td>True</td>\n",
       "      <td>True</td>\n",
       "    </tr>\n",
       "    <tr>\n",
       "      <th>34</th>\n",
       "      <td>True</td>\n",
       "      <td>True</td>\n",
       "    </tr>\n",
       "  </tbody>\n",
       "</table>\n",
       "</div>"
      ],
      "text/plain": [
       "    Años de experiencia  Sueldo\n",
       "0                  True    True\n",
       "1                  True    True\n",
       "2                  True    True\n",
       "3                 False   False\n",
       "4                  True    True\n",
       "5                  True    True\n",
       "6                 False   False\n",
       "7                  True    True\n",
       "8                  True    True\n",
       "9                  True    True\n",
       "10                 True    True\n",
       "11                False   False\n",
       "12                False   False\n",
       "13                 True    True\n",
       "14                 True    True\n",
       "15                 True    True\n",
       "16                 True    True\n",
       "17                 True    True\n",
       "18                 True    True\n",
       "19                False   False\n",
       "20                 True    True\n",
       "21                 True    True\n",
       "22                 True    True\n",
       "23                 True    True\n",
       "24                 True    True\n",
       "25                False   False\n",
       "26                 True    True\n",
       "27                 True    True\n",
       "28                 True    True\n",
       "29                 True    True\n",
       "30                 True    True\n",
       "31                 True    True\n",
       "32                 True    True\n",
       "33                 True    True\n",
       "34                 True    True"
      ]
     },
     "execution_count": 19,
     "metadata": {},
     "output_type": "execute_result"
    }
   ],
   "source": [
    "df1.notnull()"
   ]
  },
  {
   "cell_type": "markdown",
   "id": "69114389",
   "metadata": {},
   "source": [
    "### Valores faltantes"
   ]
  },
  {
   "cell_type": "markdown",
   "id": "a8ae2718",
   "metadata": {},
   "source": [
    "El método **`isnull()`** devuelve un dataframe con el valor booleano ***True*** en las celdas donde hay valores faltantes (NaN)."
   ]
  },
  {
   "cell_type": "code",
   "execution_count": 20,
   "id": "8fb9ad3b",
   "metadata": {},
   "outputs": [
    {
     "data": {
      "text/html": [
       "<div>\n",
       "<style scoped>\n",
       "    .dataframe tbody tr th:only-of-type {\n",
       "        vertical-align: middle;\n",
       "    }\n",
       "\n",
       "    .dataframe tbody tr th {\n",
       "        vertical-align: top;\n",
       "    }\n",
       "\n",
       "    .dataframe thead th {\n",
       "        text-align: right;\n",
       "    }\n",
       "</style>\n",
       "<table border=\"1\" class=\"dataframe\">\n",
       "  <thead>\n",
       "    <tr style=\"text-align: right;\">\n",
       "      <th></th>\n",
       "      <th>Años de experiencia</th>\n",
       "      <th>Sueldo</th>\n",
       "    </tr>\n",
       "  </thead>\n",
       "  <tbody>\n",
       "    <tr>\n",
       "      <th>0</th>\n",
       "      <td>False</td>\n",
       "      <td>False</td>\n",
       "    </tr>\n",
       "    <tr>\n",
       "      <th>1</th>\n",
       "      <td>False</td>\n",
       "      <td>False</td>\n",
       "    </tr>\n",
       "    <tr>\n",
       "      <th>2</th>\n",
       "      <td>False</td>\n",
       "      <td>False</td>\n",
       "    </tr>\n",
       "    <tr>\n",
       "      <th>3</th>\n",
       "      <td>True</td>\n",
       "      <td>True</td>\n",
       "    </tr>\n",
       "    <tr>\n",
       "      <th>4</th>\n",
       "      <td>False</td>\n",
       "      <td>False</td>\n",
       "    </tr>\n",
       "    <tr>\n",
       "      <th>5</th>\n",
       "      <td>False</td>\n",
       "      <td>False</td>\n",
       "    </tr>\n",
       "    <tr>\n",
       "      <th>6</th>\n",
       "      <td>True</td>\n",
       "      <td>True</td>\n",
       "    </tr>\n",
       "    <tr>\n",
       "      <th>7</th>\n",
       "      <td>False</td>\n",
       "      <td>False</td>\n",
       "    </tr>\n",
       "    <tr>\n",
       "      <th>8</th>\n",
       "      <td>False</td>\n",
       "      <td>False</td>\n",
       "    </tr>\n",
       "    <tr>\n",
       "      <th>9</th>\n",
       "      <td>False</td>\n",
       "      <td>False</td>\n",
       "    </tr>\n",
       "    <tr>\n",
       "      <th>10</th>\n",
       "      <td>False</td>\n",
       "      <td>False</td>\n",
       "    </tr>\n",
       "    <tr>\n",
       "      <th>11</th>\n",
       "      <td>True</td>\n",
       "      <td>True</td>\n",
       "    </tr>\n",
       "    <tr>\n",
       "      <th>12</th>\n",
       "      <td>True</td>\n",
       "      <td>True</td>\n",
       "    </tr>\n",
       "    <tr>\n",
       "      <th>13</th>\n",
       "      <td>False</td>\n",
       "      <td>False</td>\n",
       "    </tr>\n",
       "    <tr>\n",
       "      <th>14</th>\n",
       "      <td>False</td>\n",
       "      <td>False</td>\n",
       "    </tr>\n",
       "    <tr>\n",
       "      <th>15</th>\n",
       "      <td>False</td>\n",
       "      <td>False</td>\n",
       "    </tr>\n",
       "    <tr>\n",
       "      <th>16</th>\n",
       "      <td>False</td>\n",
       "      <td>False</td>\n",
       "    </tr>\n",
       "    <tr>\n",
       "      <th>17</th>\n",
       "      <td>False</td>\n",
       "      <td>False</td>\n",
       "    </tr>\n",
       "    <tr>\n",
       "      <th>18</th>\n",
       "      <td>False</td>\n",
       "      <td>False</td>\n",
       "    </tr>\n",
       "    <tr>\n",
       "      <th>19</th>\n",
       "      <td>True</td>\n",
       "      <td>True</td>\n",
       "    </tr>\n",
       "    <tr>\n",
       "      <th>20</th>\n",
       "      <td>False</td>\n",
       "      <td>False</td>\n",
       "    </tr>\n",
       "    <tr>\n",
       "      <th>21</th>\n",
       "      <td>False</td>\n",
       "      <td>False</td>\n",
       "    </tr>\n",
       "    <tr>\n",
       "      <th>22</th>\n",
       "      <td>False</td>\n",
       "      <td>False</td>\n",
       "    </tr>\n",
       "    <tr>\n",
       "      <th>23</th>\n",
       "      <td>False</td>\n",
       "      <td>False</td>\n",
       "    </tr>\n",
       "    <tr>\n",
       "      <th>24</th>\n",
       "      <td>False</td>\n",
       "      <td>False</td>\n",
       "    </tr>\n",
       "    <tr>\n",
       "      <th>25</th>\n",
       "      <td>True</td>\n",
       "      <td>True</td>\n",
       "    </tr>\n",
       "    <tr>\n",
       "      <th>26</th>\n",
       "      <td>False</td>\n",
       "      <td>False</td>\n",
       "    </tr>\n",
       "    <tr>\n",
       "      <th>27</th>\n",
       "      <td>False</td>\n",
       "      <td>False</td>\n",
       "    </tr>\n",
       "    <tr>\n",
       "      <th>28</th>\n",
       "      <td>False</td>\n",
       "      <td>False</td>\n",
       "    </tr>\n",
       "    <tr>\n",
       "      <th>29</th>\n",
       "      <td>False</td>\n",
       "      <td>False</td>\n",
       "    </tr>\n",
       "    <tr>\n",
       "      <th>30</th>\n",
       "      <td>False</td>\n",
       "      <td>False</td>\n",
       "    </tr>\n",
       "    <tr>\n",
       "      <th>31</th>\n",
       "      <td>False</td>\n",
       "      <td>False</td>\n",
       "    </tr>\n",
       "    <tr>\n",
       "      <th>32</th>\n",
       "      <td>False</td>\n",
       "      <td>False</td>\n",
       "    </tr>\n",
       "    <tr>\n",
       "      <th>33</th>\n",
       "      <td>False</td>\n",
       "      <td>False</td>\n",
       "    </tr>\n",
       "    <tr>\n",
       "      <th>34</th>\n",
       "      <td>False</td>\n",
       "      <td>False</td>\n",
       "    </tr>\n",
       "  </tbody>\n",
       "</table>\n",
       "</div>"
      ],
      "text/plain": [
       "    Años de experiencia  Sueldo\n",
       "0                 False   False\n",
       "1                 False   False\n",
       "2                 False   False\n",
       "3                  True    True\n",
       "4                 False   False\n",
       "5                 False   False\n",
       "6                  True    True\n",
       "7                 False   False\n",
       "8                 False   False\n",
       "9                 False   False\n",
       "10                False   False\n",
       "11                 True    True\n",
       "12                 True    True\n",
       "13                False   False\n",
       "14                False   False\n",
       "15                False   False\n",
       "16                False   False\n",
       "17                False   False\n",
       "18                False   False\n",
       "19                 True    True\n",
       "20                False   False\n",
       "21                False   False\n",
       "22                False   False\n",
       "23                False   False\n",
       "24                False   False\n",
       "25                 True    True\n",
       "26                False   False\n",
       "27                False   False\n",
       "28                False   False\n",
       "29                False   False\n",
       "30                False   False\n",
       "31                False   False\n",
       "32                False   False\n",
       "33                False   False\n",
       "34                False   False"
      ]
     },
     "execution_count": 20,
     "metadata": {},
     "output_type": "execute_result"
    }
   ],
   "source": [
    "df1.isnull()"
   ]
  },
  {
   "cell_type": "markdown",
   "id": "f373682b",
   "metadata": {},
   "source": [
    "Al método **`isnul()`** se le puede agregar el atributo **`values`** y el método **`sum()`** que devuelve la cantidad total de valores faltantes."
   ]
  },
  {
   "cell_type": "code",
   "execution_count": 21,
   "id": "115a3e30",
   "metadata": {},
   "outputs": [
    {
     "data": {
      "text/plain": [
       "12"
      ]
     },
     "execution_count": 21,
     "metadata": {},
     "output_type": "execute_result"
    }
   ],
   "source": [
    "df1.isnull().values.sum()"
   ]
  },
  {
   "cell_type": "markdown",
   "id": "6d04b37c",
   "metadata": {},
   "source": [
    "Y si se quiere ver de forma más detallada la cantidad de valores faltantes por columna, entonces se aplica sólo el método **`sum()`** al dataframe:"
   ]
  },
  {
   "cell_type": "code",
   "execution_count": 22,
   "id": "919c569e",
   "metadata": {},
   "outputs": [
    {
     "data": {
      "text/plain": [
       "Años de experiencia    6\n",
       "Sueldo                 6\n",
       "dtype: int64"
      ]
     },
     "execution_count": 22,
     "metadata": {},
     "output_type": "execute_result"
    }
   ],
   "source": [
    "df1.isnull().sum()"
   ]
  },
  {
   "cell_type": "code",
   "execution_count": 23,
   "id": "bbc67689",
   "metadata": {},
   "outputs": [
    {
     "data": {
      "text/plain": [
       "70"
      ]
     },
     "execution_count": 23,
     "metadata": {},
     "output_type": "execute_result"
    }
   ],
   "source": [
    "df1.size"
   ]
  },
  {
   "cell_type": "markdown",
   "id": "63c137ce",
   "metadata": {},
   "source": [
    "### Manejo de valores faltantes"
   ]
  },
  {
   "cell_type": "markdown",
   "id": "a8dc4cae",
   "metadata": {},
   "source": [
    "El manejo de los valores faltantes puede implicar eliminarlos o reemplazarlos por otro valor, y se hace según la columna, es decir, no se pueden tratar todos los valores faltantes del dataframe de la misma forma. En este caso los valores faltantes de se *reemplazan* por la media en ambas columnas. \n",
    "\n",
    "La ventaja de reemplazar por la media es que el valor de la media en la columna no se ve afectado por los valores faltantes. \n",
    "\n",
    "Para reemplazar los valores faltantes por la media se utiliza el método **`fillna()`**, con el parámetro **`value`** para indicar el valor que reemplaza a los valores faltantes, y el parámetro **`inplace=True`** para indicar que el reemplazo se haga en la columna asignada. \n",
    "\n",
    "Al igual que en el método **`describe()`**, en el método  **`fillna()`** se calcula el promedio de cada columna sobre los valores existentes sin tener en cuenta los valores faltantes. \n",
    "\n",
    "Tener en cuenta que se debe aplicar el método a cada columna para poder reealizar el reemplazo de los valores faltantes con el método **`fillna()`**, si aplicaramos el método al dataframe tendriamos como resultado el reemplazo de TODOS los valores faltantes de dataframe por el mismo promedio. "
   ]
  },
  {
   "cell_type": "code",
   "execution_count": 24,
   "id": "11396b97",
   "metadata": {},
   "outputs": [],
   "source": [
    "df1['Años de experiencia'].fillna(value=df1['Años de experiencia'].mean(), inplace=True)\n",
    "df1['Sueldo'].fillna(value=df1['Sueldo'].mean(), inplace=True)"
   ]
  },
  {
   "cell_type": "markdown",
   "id": "2725f900",
   "metadata": {},
   "source": [
    "Imprimos el dataframe para verificar que se reemplazaron los valores faltantes:"
   ]
  },
  {
   "cell_type": "code",
   "execution_count": 25,
   "id": "046b4e6f",
   "metadata": {},
   "outputs": [
    {
     "data": {
      "text/html": [
       "<div>\n",
       "<style scoped>\n",
       "    .dataframe tbody tr th:only-of-type {\n",
       "        vertical-align: middle;\n",
       "    }\n",
       "\n",
       "    .dataframe tbody tr th {\n",
       "        vertical-align: top;\n",
       "    }\n",
       "\n",
       "    .dataframe thead th {\n",
       "        text-align: right;\n",
       "    }\n",
       "</style>\n",
       "<table border=\"1\" class=\"dataframe\">\n",
       "  <thead>\n",
       "    <tr style=\"text-align: right;\">\n",
       "      <th></th>\n",
       "      <th>Años de experiencia</th>\n",
       "      <th>Sueldo</th>\n",
       "    </tr>\n",
       "  </thead>\n",
       "  <tbody>\n",
       "    <tr>\n",
       "      <th>0</th>\n",
       "      <td>1.100000</td>\n",
       "      <td>39343.00000</td>\n",
       "    </tr>\n",
       "    <tr>\n",
       "      <th>1</th>\n",
       "      <td>1.300000</td>\n",
       "      <td>46205.00000</td>\n",
       "    </tr>\n",
       "    <tr>\n",
       "      <th>2</th>\n",
       "      <td>1.500000</td>\n",
       "      <td>37731.00000</td>\n",
       "    </tr>\n",
       "    <tr>\n",
       "      <th>3</th>\n",
       "      <td>6.648276</td>\n",
       "      <td>86970.62069</td>\n",
       "    </tr>\n",
       "    <tr>\n",
       "      <th>4</th>\n",
       "      <td>2.200000</td>\n",
       "      <td>39891.00000</td>\n",
       "    </tr>\n",
       "    <tr>\n",
       "      <th>5</th>\n",
       "      <td>2.900000</td>\n",
       "      <td>56642.00000</td>\n",
       "    </tr>\n",
       "    <tr>\n",
       "      <th>6</th>\n",
       "      <td>6.648276</td>\n",
       "      <td>86970.62069</td>\n",
       "    </tr>\n",
       "    <tr>\n",
       "      <th>7</th>\n",
       "      <td>3.200000</td>\n",
       "      <td>54445.00000</td>\n",
       "    </tr>\n",
       "    <tr>\n",
       "      <th>8</th>\n",
       "      <td>3.200000</td>\n",
       "      <td>64445.00000</td>\n",
       "    </tr>\n",
       "    <tr>\n",
       "      <th>9</th>\n",
       "      <td>3.700000</td>\n",
       "      <td>57189.00000</td>\n",
       "    </tr>\n",
       "    <tr>\n",
       "      <th>10</th>\n",
       "      <td>3.900000</td>\n",
       "      <td>63218.00000</td>\n",
       "    </tr>\n",
       "    <tr>\n",
       "      <th>11</th>\n",
       "      <td>6.648276</td>\n",
       "      <td>86970.62069</td>\n",
       "    </tr>\n",
       "    <tr>\n",
       "      <th>12</th>\n",
       "      <td>6.648276</td>\n",
       "      <td>86970.62069</td>\n",
       "    </tr>\n",
       "    <tr>\n",
       "      <th>13</th>\n",
       "      <td>4.100000</td>\n",
       "      <td>57081.00000</td>\n",
       "    </tr>\n",
       "    <tr>\n",
       "      <th>14</th>\n",
       "      <td>4.500000</td>\n",
       "      <td>61111.00000</td>\n",
       "    </tr>\n",
       "    <tr>\n",
       "      <th>15</th>\n",
       "      <td>4.900000</td>\n",
       "      <td>67938.00000</td>\n",
       "    </tr>\n",
       "    <tr>\n",
       "      <th>16</th>\n",
       "      <td>5.100000</td>\n",
       "      <td>66029.00000</td>\n",
       "    </tr>\n",
       "    <tr>\n",
       "      <th>17</th>\n",
       "      <td>5.300000</td>\n",
       "      <td>83088.00000</td>\n",
       "    </tr>\n",
       "    <tr>\n",
       "      <th>18</th>\n",
       "      <td>5.900000</td>\n",
       "      <td>81363.00000</td>\n",
       "    </tr>\n",
       "    <tr>\n",
       "      <th>19</th>\n",
       "      <td>6.648276</td>\n",
       "      <td>86970.62069</td>\n",
       "    </tr>\n",
       "    <tr>\n",
       "      <th>20</th>\n",
       "      <td>6.800000</td>\n",
       "      <td>91738.00000</td>\n",
       "    </tr>\n",
       "    <tr>\n",
       "      <th>21</th>\n",
       "      <td>7.100000</td>\n",
       "      <td>98273.00000</td>\n",
       "    </tr>\n",
       "    <tr>\n",
       "      <th>22</th>\n",
       "      <td>7.900000</td>\n",
       "      <td>101302.00000</td>\n",
       "    </tr>\n",
       "    <tr>\n",
       "      <th>23</th>\n",
       "      <td>8.200000</td>\n",
       "      <td>113812.00000</td>\n",
       "    </tr>\n",
       "    <tr>\n",
       "      <th>24</th>\n",
       "      <td>8.700000</td>\n",
       "      <td>109431.00000</td>\n",
       "    </tr>\n",
       "    <tr>\n",
       "      <th>25</th>\n",
       "      <td>6.648276</td>\n",
       "      <td>86970.62069</td>\n",
       "    </tr>\n",
       "    <tr>\n",
       "      <th>26</th>\n",
       "      <td>9.500000</td>\n",
       "      <td>116969.00000</td>\n",
       "    </tr>\n",
       "    <tr>\n",
       "      <th>27</th>\n",
       "      <td>9.600000</td>\n",
       "      <td>112635.00000</td>\n",
       "    </tr>\n",
       "    <tr>\n",
       "      <th>28</th>\n",
       "      <td>10.300000</td>\n",
       "      <td>122391.00000</td>\n",
       "    </tr>\n",
       "    <tr>\n",
       "      <th>29</th>\n",
       "      <td>10.500000</td>\n",
       "      <td>121872.00000</td>\n",
       "    </tr>\n",
       "    <tr>\n",
       "      <th>30</th>\n",
       "      <td>11.200000</td>\n",
       "      <td>127345.00000</td>\n",
       "    </tr>\n",
       "    <tr>\n",
       "      <th>31</th>\n",
       "      <td>11.500000</td>\n",
       "      <td>126756.00000</td>\n",
       "    </tr>\n",
       "    <tr>\n",
       "      <th>32</th>\n",
       "      <td>12.300000</td>\n",
       "      <td>128765.00000</td>\n",
       "    </tr>\n",
       "    <tr>\n",
       "      <th>33</th>\n",
       "      <td>12.900000</td>\n",
       "      <td>135675.00000</td>\n",
       "    </tr>\n",
       "    <tr>\n",
       "      <th>34</th>\n",
       "      <td>13.500000</td>\n",
       "      <td>139465.00000</td>\n",
       "    </tr>\n",
       "  </tbody>\n",
       "</table>\n",
       "</div>"
      ],
      "text/plain": [
       "    Años de experiencia        Sueldo\n",
       "0              1.100000   39343.00000\n",
       "1              1.300000   46205.00000\n",
       "2              1.500000   37731.00000\n",
       "3              6.648276   86970.62069\n",
       "4              2.200000   39891.00000\n",
       "5              2.900000   56642.00000\n",
       "6              6.648276   86970.62069\n",
       "7              3.200000   54445.00000\n",
       "8              3.200000   64445.00000\n",
       "9              3.700000   57189.00000\n",
       "10             3.900000   63218.00000\n",
       "11             6.648276   86970.62069\n",
       "12             6.648276   86970.62069\n",
       "13             4.100000   57081.00000\n",
       "14             4.500000   61111.00000\n",
       "15             4.900000   67938.00000\n",
       "16             5.100000   66029.00000\n",
       "17             5.300000   83088.00000\n",
       "18             5.900000   81363.00000\n",
       "19             6.648276   86970.62069\n",
       "20             6.800000   91738.00000\n",
       "21             7.100000   98273.00000\n",
       "22             7.900000  101302.00000\n",
       "23             8.200000  113812.00000\n",
       "24             8.700000  109431.00000\n",
       "25             6.648276   86970.62069\n",
       "26             9.500000  116969.00000\n",
       "27             9.600000  112635.00000\n",
       "28            10.300000  122391.00000\n",
       "29            10.500000  121872.00000\n",
       "30            11.200000  127345.00000\n",
       "31            11.500000  126756.00000\n",
       "32            12.300000  128765.00000\n",
       "33            12.900000  135675.00000\n",
       "34            13.500000  139465.00000"
      ]
     },
     "execution_count": 25,
     "metadata": {},
     "output_type": "execute_result"
    }
   ],
   "source": [
    "df1"
   ]
  },
  {
   "cell_type": "markdown",
   "id": "18efe87d",
   "metadata": {},
   "source": [
    "Por último, se redondean los valores de ambas columnas para que sean más fácil de visualizar. Y además cambiamos el tipo de dato de la columna `'Años de experiencia'` que es *`float`* al tipo de dato *`int`* con el método **`astype()`**."
   ]
  },
  {
   "cell_type": "code",
   "execution_count": 26,
   "id": "77a4f2c2",
   "metadata": {},
   "outputs": [],
   "source": [
    "df1 = df1.round() #redondeo de los valores en ambas columnas del dataframe\n",
    "df1['Años de experiencia'] = df1['Años de experiencia'].astype(int) #cambio de tipo de dato en una columna"
   ]
  },
  {
   "cell_type": "markdown",
   "id": "ccaa7f27",
   "metadata": {},
   "source": [
    "El dataframe resultante es:"
   ]
  },
  {
   "cell_type": "code",
   "execution_count": 27,
   "id": "2153325d",
   "metadata": {},
   "outputs": [
    {
     "data": {
      "text/html": [
       "<div>\n",
       "<style scoped>\n",
       "    .dataframe tbody tr th:only-of-type {\n",
       "        vertical-align: middle;\n",
       "    }\n",
       "\n",
       "    .dataframe tbody tr th {\n",
       "        vertical-align: top;\n",
       "    }\n",
       "\n",
       "    .dataframe thead th {\n",
       "        text-align: right;\n",
       "    }\n",
       "</style>\n",
       "<table border=\"1\" class=\"dataframe\">\n",
       "  <thead>\n",
       "    <tr style=\"text-align: right;\">\n",
       "      <th></th>\n",
       "      <th>Años de experiencia</th>\n",
       "      <th>Sueldo</th>\n",
       "    </tr>\n",
       "  </thead>\n",
       "  <tbody>\n",
       "    <tr>\n",
       "      <th>0</th>\n",
       "      <td>1</td>\n",
       "      <td>39343.0</td>\n",
       "    </tr>\n",
       "    <tr>\n",
       "      <th>1</th>\n",
       "      <td>1</td>\n",
       "      <td>46205.0</td>\n",
       "    </tr>\n",
       "    <tr>\n",
       "      <th>2</th>\n",
       "      <td>2</td>\n",
       "      <td>37731.0</td>\n",
       "    </tr>\n",
       "    <tr>\n",
       "      <th>3</th>\n",
       "      <td>7</td>\n",
       "      <td>86971.0</td>\n",
       "    </tr>\n",
       "    <tr>\n",
       "      <th>4</th>\n",
       "      <td>2</td>\n",
       "      <td>39891.0</td>\n",
       "    </tr>\n",
       "  </tbody>\n",
       "</table>\n",
       "</div>"
      ],
      "text/plain": [
       "   Años de experiencia   Sueldo\n",
       "0                    1  39343.0\n",
       "1                    1  46205.0\n",
       "2                    2  37731.0\n",
       "3                    7  86971.0\n",
       "4                    2  39891.0"
      ]
     },
     "execution_count": 27,
     "metadata": {},
     "output_type": "execute_result"
    }
   ],
   "source": [
    "df1.head()"
   ]
  },
  {
   "cell_type": "markdown",
   "id": "3321e102",
   "metadata": {},
   "source": [
    "Es **importante** tener en cuenta que para realizar las modificaciones en el dataframe utilizando métodos es necesario almacenar dichas modificaciones en la variable del dataframe o de la columna del dataframe que estemos modificando. Si se aplica un método al dataframe sin almacenarlo en la variable solo se va a poder visualizar los resultados y los cambios no se van a guardar. Esto igual es útil para evitar modificaciones en el dataframe que puedan alterar el análisis, es decir, para evitar errores. "
   ]
  },
  {
   "cell_type": "markdown",
   "id": "27d0edf9",
   "metadata": {},
   "source": [
    "## Gráficos"
   ]
  },
  {
   "cell_type": "markdown",
   "id": "0cad356b",
   "metadata": {},
   "source": [
    "La exploración de los datos se puede complementar con el uso de gráficos, tales como histogramas, gráficos de barras, de lineas, de tortas, de area, de dispersión, etc. \n",
    "\n",
    "Para poder realizar gráfico se utiliza la libreria **Matplotlib**, para ello importamos el módulo **pyplot** de la librería con el alias **plt**. \n"
   ]
  },
  {
   "cell_type": "code",
   "execution_count": 28,
   "id": "e1929b1a",
   "metadata": {},
   "outputs": [],
   "source": [
    "import matplotlib.pyplot as plt\n",
    "plt.style.use('ggplot')"
   ]
  },
  {
   "cell_type": "markdown",
   "id": "cb6add7f",
   "metadata": {},
   "source": [
    "### Histograma - Análisis de la columna \"Sueldo\""
   ]
  },
  {
   "cell_type": "markdown",
   "id": "77c7f772",
   "metadata": {},
   "source": [
    "Los histogramas se usan para representar la distribución de datos continuos tales como los valores de la columna `Sueldo` deldataframe con el que se está trabajando. \n",
    "En el eje X se visualizan los intervalos de clases y en el eje Y la frecuencia de los valores que se encuentran dentro de los intervalos. \n",
    "\n",
    "Para realizar el histograma, en primer lugar se deben calcular los intervalos de clases y la frecuencia, para ello se utiliza el método **`np.histogram()`** de la librería **Numpy** al cual se le pasa como parámetro la columna `Sueldo`. "
   ]
  },
  {
   "cell_type": "code",
   "execution_count": 29,
   "id": "70b6f2cf",
   "metadata": {},
   "outputs": [
    {
     "name": "stdout",
     "output_type": "stream",
     "text": [
      "[4 4 5 0 8 2 1 4 5 2]\n",
      "[ 37731.   47904.4  58077.8  68251.2  78424.6  88598.   98771.4 108944.8\n",
      " 119118.2 129291.6 139465. ]\n"
     ]
    }
   ],
   "source": [
    "frecuencia, intervalos= np.histogram(df1['Sueldo'])\n",
    "print(frecuencia)\n",
    "print(intervalos)"
   ]
  },
  {
   "cell_type": "markdown",
   "id": "051140f5",
   "metadata": {},
   "source": [
    "El primer arreglo es el conteo de las frecuencias. \n",
    "El segundo arreglo son los intervalos de clases.\n",
    "\n",
    "En segundo lugar se realiza el gráfico del histograma con el método **`.plot()`** de Matplotlib, cuyos parámetros son el tipo de gráfico, ***`kind='hist`***' (ya que por defecto el método realiza gráficos de línea); el tamaño de la figura, ***`figsize`***; los valores del eje X, ***`xticks`***; los valores del eje Y, ***`yticks`***; la separación de las barras del histograma, ***`rwidth`***; y el color del gráfico, ***`color`***. \n",
    "\n",
    "Una vez que el gráfico se crea queda instanciado y se le puede agregar propiedades y valores, como el título y las etiquetas del eje x y el eje y, con el módulo `plt`. Además con el mismo modulo y método **`.show()`** se muestra el gráfico resultante."
   ]
  },
  {
   "cell_type": "code",
   "execution_count": 30,
   "id": "98e9e359",
   "metadata": {},
   "outputs": [
    {
     "data": {
      "image/png": "[encoded data removed]",
      "text/plain": [
       "<Figure size 800x600 with 1 Axes>"
      ]
     },
     "metadata": {},
     "output_type": "display_data"
    }
   ],
   "source": [
    "df1['Sueldo'].plot(kind='hist', figsize=(8,6), xticks=intervalos, yticks=frecuencia, rwidth=0.8, color=\"lightgreen\")\n",
    "\n",
    "plt.title('Histograma de la columna Sueldos')\n",
    "plt.ylabel('Frecuencia')\n",
    "plt.xlabel('Sueldos')\n",
    "\n",
    "plt.show()"
   ]
  },
  {
   "cell_type": "markdown",
   "id": "a158e649",
   "metadata": {},
   "source": [
    "En el gráfico se puede apreciar que la mayor frecuencia se da en los sueldos de entre 78.425 y 88.598; la menor frecuencia se da en los sueldos de entre 98.771 y 108.945; mientras que no existen sueldos de entre 68.251 y 78.425. "
   ]
  },
  {
   "cell_type": "markdown",
   "id": "b80a3fbe",
   "metadata": {},
   "source": [
    "### Gráfico de cajas - Análisis de la columna \"Sueldo\""
   ]
  },
  {
   "cell_type": "markdown",
   "id": "5f9cb718",
   "metadata": {},
   "source": [
    "El gráfico de cajas es un método para representar graficamente un conjunto de datos numéricos a traves de sus cuartiles. De esta manera, el gráfico muestra a simple vista la mediana y los cuartiles de los datos. \n",
    "\n",
    "Para graficarlo utilizamos también el método **`plot()`** con el parámetro **`kind='box'`** para especificar el tipo de gráfico. "
   ]
  },
  {
   "cell_type": "code",
   "execution_count": 31,
   "id": "5d7b39bf",
   "metadata": {},
   "outputs": [
    {
     "data": {
      "image/png": "[encoded data removed]",
      "text/plain": [
       "<Figure size 800x600 with 1 Axes>"
      ]
     },
     "metadata": {},
     "output_type": "display_data"
    }
   ],
   "source": [
    "df1['Sueldo'].plot(kind='box', figsize=(8,6), color='green')\n",
    "\n",
    "plt.title('Gráfico de cajas de los datos de la columna Sueldo')\n",
    "plt.ylabel('Sueldos')\n",
    "\n",
    "plt.show()"
   ]
  },
  {
   "cell_type": "markdown",
   "id": "7c69f6ec",
   "metadata": {},
   "source": [
    "Se puede observar que:\n",
    "\n",
    "\n",
    "*   El salario mínimo está un poco por debajo de los 40000.\n",
    "*   El salario máximo está bastante cerca de los 140000.\n",
    "*   La media de salarios es de entre 85000 y 90000; el 50% de los salarios está por debajo de los ~90000.\n",
    "*   El 25% de los salarios está entre los ~40000 y los ~62000. \n",
    "*   El 75% de los salarios está por debajo de los ~110000; y el 25% de los salarios está por encima de los ~110000.\n",
    "*   No hay valores aberrantes.\n",
    "\n",
    "Y estas observaciones concuerdan con los datos estadísticos descriptivos devueltos por el método **`describe()`**."
   ]
  },
  {
   "cell_type": "markdown",
   "id": "67fbb109",
   "metadata": {},
   "source": [
    "### Gráfico de barras - Análisis de la columna \"Años de experiencia\""
   ]
  },
  {
   "cell_type": "markdown",
   "id": "390a94cc",
   "metadata": {},
   "source": [
    "Un gráfico de barras se utiliza para representar una distribución de frecuencias de datos discretos o categóricos, como los que tenemos en la columna `Años de experiencia`. \n",
    "Para realizar un gráfico de barras se utiliza el método **`bar()`** de `Matplotlib`, aunque también se puede utilizar el método **`plot()`** con el parámetro **`kind='bar'`**. Pero antes,se debe determinar la frecuencia de los valores de la columna `Años de experiencia` y para ello se utiliza el método **`value_counts()`** de `Pandas`."
   ]
  },
  {
   "cell_type": "code",
   "execution_count": 32,
   "id": "951c973e",
   "metadata": {},
   "outputs": [
    {
     "data": {
      "image/png": "[encoded data removed]",
      "text/plain": [
       "<Figure size 640x480 with 1 Axes>"
      ]
     },
     "metadata": {},
     "output_type": "display_data"
    }
   ],
   "source": [
    "# Calcular la frecuencia de los años de experiencia\n",
    "frecuencia = df1['Años de experiencia'].value_counts()\n",
    "\n",
    "# Crear el gráfico de barras\n",
    "plt.bar(frecuencia.index, frecuencia)\n",
    "\n",
    "plt.title('Años de experiencia')\n",
    "plt.xlabel('Años de experiencia')\n",
    "plt.ylabel('Frecuencia')\n",
    "\n",
    "# Mostrar el gráfico\n",
    "plt.show()\n"
   ]
  },
  {
   "cell_type": "markdown",
   "id": "a01d8a1c",
   "metadata": {},
   "source": [
    "Se puede observar que los años de experiencia van desde 1 año hasta los 14 años, y que la mayor frecuencia corresponde para los 7 años de experiencia. También se puede ver que la distribución de los datos es practicamanete simétrica. Esto se puede corroborar calculando la media, la mediana y la moda. Para ello se utilizan los métodos **`mean()`** y **`median()`** de `Numpy`, y el método **`mode()`** de la librería `Scipy`. \n"
   ]
  },
  {
   "cell_type": "code",
   "execution_count": 33,
   "id": "a602d19d",
   "metadata": {},
   "outputs": [
    {
     "name": "stdout",
     "output_type": "stream",
     "text": [
      "La media es: 6.714285714285714\n",
      "La mediana es: 7.0\n",
      "La moda es: ModeResult(mode=array([7]), count=array([8]))\n"
     ]
    }
   ],
   "source": [
    "from scipy import stats #importo el módulo stats de la librería scipy para poder calcular la moda\n",
    "\n",
    "media = np.mean(df1['Años de experiencia']) #cálculo de la media\n",
    "mediana = np.median(df1['Años de experiencia']) #cálculo de la mediana\n",
    "moda = stats.mode(df1['Años de experiencia'], keepdims='True') #cálculo de la moda\n",
    "\n",
    "print('La media es: ' + str(media))\n",
    "print('La mediana es: ' + str(mediana))\n",
    "print('La moda es: ' + str(moda))"
   ]
  },
  {
   "cell_type": "markdown",
   "id": "5450c5aa",
   "metadata": {},
   "source": [
    "La moda y la mediana son iguales a 7; mientras que la media es 6.7, lo que puede significar que hay algunos valores más bajos que arrastran la media hacia abajo. Sin embargo, la diferencia entre la media y la mediana no es muy grande, lo que sugiere que no hay una cantidad significativa de valores atípicos en la distribución.\n",
    "\n",
    "En resumen, la distribución de los datos se aproxima a la asimetría con una ligera inclinación hacia la izquierda."
   ]
  },
  {
   "cell_type": "markdown",
   "id": "588d912a",
   "metadata": {},
   "source": [
    "### Diagrama de dispersión  - Análisis de los datos de ambas columnas"
   ]
  },
  {
   "cell_type": "markdown",
   "id": "d12f6649",
   "metadata": {},
   "source": [
    "Los diagramas de dispersión muestran de manera gráfica la relación que hay entre dos variables cuantitativas. En este caso, se utiliza para observar si hay una relación lineal entre los años de experiencia y el sueldo percibido. \n",
    "\n",
    "Para realizar el gráfico de dispersión se utiliza el método **`scatter()`** de `Matplotlib`, y para graficar la línea de relación se utiliza el método **`polyfit()`** de `Numpy`. "
   ]
  },
  {
   "cell_type": "code",
   "execution_count": 34,
   "id": "83dfe37f",
   "metadata": {},
   "outputs": [
    {
     "data": {
      "image/png": "[encoded data removed]",
      "text/plain": [
       "<Figure size 640x480 with 1 Axes>"
      ]
     },
     "metadata": {},
     "output_type": "display_data"
    }
   ],
   "source": [
    "x = df1[\"Años de experiencia\"] # Eje x\n",
    "y = df1[\"Sueldo\"] # Eje y\n",
    "\n",
    "\n",
    "pend, inter = np.polyfit(x, y, 1) #Ajusto la línea de relación\n",
    "\n",
    "plt.scatter(x, y) # Diagrama de dispersión\n",
    "plt.plot(x, pend*x + inter, color='r') # Grafico la línea de relación en el diagrama\n",
    "plt.xlabel(\"Años de experiencia\")\n",
    "plt.ylabel(\"Salario\")\n",
    "plt.show()\n"
   ]
  },
  {
   "cell_type": "markdown",
   "id": "e2e266c1",
   "metadata": {},
   "source": [
    "A simple vista se puede observar que hay una relación lineal directa entre las dos variables. Esto se puede verificar calculando la covarianza y el coeficiente de correlación. \n",
    "\n",
    "La *covarianza* es una medida descriptiva que permite determinar el tipo de relación lineal entre dos variables. Y se calcula utilizando la función **`cov()`** de `Numpy`.\n",
    "\n",
    "El *coeficiente de correlación* se utiliza para medir la magnitud de la relación lineal entre dos variables, es decir, indica cuán fuerte o débil es una relación lineal. Y se calcula con la función **`coef_corr()`** de`Numpy`."
   ]
  },
  {
   "cell_type": "code",
   "execution_count": 35,
   "id": "dfadd992",
   "metadata": {},
   "outputs": [
    {
     "name": "stdout",
     "output_type": "stream",
     "text": [
      "La covarianza es: 101993.47\n"
     ]
    }
   ],
   "source": [
    "covarianza = np.cov(x,y) \n",
    "cov = round(covarianza[0,1], 2) \n",
    "print('La covarianza es: ' + str(cov))"
   ]
  },
  {
   "cell_type": "markdown",
   "id": "0c99a9c4",
   "metadata": {},
   "source": [
    "El valor positivo de la covarianza  indica que la relación lineal entre los años de experiencia y el sueldo es directa, es decir, cuando aumentan los años de experiencia también lo hacen los sueldos."
   ]
  },
  {
   "cell_type": "code",
   "execution_count": 36,
   "id": "366c9963",
   "metadata": {},
   "outputs": [
    {
     "name": "stdout",
     "output_type": "stream",
     "text": [
      "El coeficiente de correlación es: 0.98\n"
     ]
    }
   ],
   "source": [
    "coeficiente_corr= np.corrcoef(x,y)\n",
    "coef_corr = round(coeficiente_corr[0,1], 2)\n",
    "print('El coeficiente de correlación es: ' + str(coef_corr))"
   ]
  },
  {
   "cell_type": "markdown",
   "id": "833dae2b",
   "metadata": {},
   "source": [
    "El valor del coeficiente de correlación cercano a 1 indica una correlación fuerte, es decir, que la relación lineal es directa  y fuerte. "
   ]
  }
 ],
 "metadata": {
  "kernelspec": {
   "display_name": "Python 3 (ipykernel)",
   "language": "python",
   "name": "python3"
  },
  "language_info": {
   "codemirror_mode": {
    "name": "ipython",
    "version": 3
   },
   "file_extension": ".py",
   "mimetype": "text/x-python",
   "name": "python",
   "nbconvert_exporter": "python",
   "pygments_lexer": "ipython3",
   "version": "3.9.13"
  }
 },
 "nbformat": 4,
 "nbformat_minor": 5
}
